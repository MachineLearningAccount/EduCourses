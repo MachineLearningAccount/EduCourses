{
 "cells": [
  {
   "cell_type": "markdown",
   "id": "46031240",
   "metadata": {},
   "source": [
    "**Выполнил:** Черевко В.И. (ЗМБД-2032)"
   ]
  },
  {
   "cell_type": "markdown",
   "id": "622c88ed",
   "metadata": {},
   "source": [
    "# Лабораторная работа №1\n",
    "\n",
    "**Цель работы.** Изучить алгоритм обучения однослойного персептрона методом коррекции по ошибке через дельта-правило.\n",
    "\n",
    "**Задание.** В соответствии с вариантом, необходимо обучить нейронную сеть распознавать указанные 4 символа. На каждый символ необходимо подготовить 4 обучающих образа с использованием разных шрифтов. Соответственно, всего будет 16 обучающих образов: 4 образа первым шрифтом, 4 образа, вторым шрифтом и т.д. Тестовая выборка должна содержать по 1 образу на каждый из 4-х символов. Символы должны быть написаны другим шрифтом, который не был использован в обучающей выборке."
   ]
  },
  {
   "cell_type": "code",
   "execution_count": 78,
   "id": "157c3949",
   "metadata": {},
   "outputs": [
    {
     "ename": "ModuleNotFoundError",
     "evalue": "No module named 'torch'",
     "output_type": "error",
     "traceback": [
      "\u001b[1;31m---------------------------------------------------------------------------\u001b[0m",
      "\u001b[1;31mModuleNotFoundError\u001b[0m                       Traceback (most recent call last)",
      "Input \u001b[1;32mIn [78]\u001b[0m, in \u001b[0;36m<cell line: 1>\u001b[1;34m()\u001b[0m\n\u001b[1;32m----> 1\u001b[0m \u001b[38;5;28;01mimport\u001b[39;00m \u001b[38;5;21;01mtorch\u001b[39;00m \u001b[38;5;28;01mas\u001b[39;00m \u001b[38;5;21;01mth\u001b[39;00m\n\u001b[0;32m      3\u001b[0m \u001b[38;5;28mprint\u001b[39m(th\u001b[38;5;241m.\u001b[39mcuda\u001b[38;5;241m.\u001b[39mcurrent_device())\n\u001b[0;32m      4\u001b[0m \u001b[38;5;28mprint\u001b[39m(th\u001b[38;5;241m.\u001b[39mcuda\u001b[38;5;241m.\u001b[39mis_avalible())\n",
      "\u001b[1;31mModuleNotFoundError\u001b[0m: No module named 'torch'"
     ]
    }
   ],
   "source": [
    "import torch as th\n",
    "\n",
    "print(th.cuda.current_device())\n",
    "print(th.cuda.is_avalible())\n",
    "print(th.cuda.current_device())\n",
    "\n",
    "X = th.rand(1000, 1000, device=0)\n",
    "Y = th.rand(1000, 1000, device=0)\n",
    "\n",
    "for i in range(1000):\n",
    "    th.mm(th.mm(x, y), th.mm(x, y))\n",
    "    \n",
    "print('Success!')"
   ]
  },
  {
   "cell_type": "code",
   "execution_count": 16,
   "id": "84a1d106",
   "metadata": {},
   "outputs": [
    {
     "name": "stdout",
     "output_type": "stream",
     "text": [
      "[[2, 1, [2, 1, 2]], [2, 1, [2, 1, 2]], [2, 1, [2, 1, 2]]]\n",
      "[2, 1, [2, 1, 2], 2, 1, [2, 1, 2], 2, 1, [2, 1, 2]]\n"
     ]
    },
    {
     "name": "stderr",
     "output_type": "stream",
     "text": [
      "C:\\Users\\vlcher\\AppData\\Local\\Temp\\ipykernel_19364\\628205287.py:5: VisibleDeprecationWarning: Creating an ndarray from ragged nested sequences (which is a list-or-tuple of lists-or-tuples-or ndarrays with different lengths or shapes) is deprecated. If you meant to do this, you must specify 'dtype=object' when creating the ndarray.\n",
      "  b = list(np.asanyarray(a).reshape(-2))\n"
     ]
    }
   ],
   "source": [
    "import numpy as np\n",
    "a = [[2,1,[2,1,2]],[2,1,[2,1,2]],[2,1,[2,1,2]]]\n",
    "print(a)\n",
    "\n",
    "b = list(np.asanyarray(a).reshape(-2))\n",
    "print(b)"
   ]
  },
  {
   "cell_type": "code",
   "execution_count": null,
   "id": "f9032091",
   "metadata": {},
   "outputs": [],
   "source": []
  },
  {
   "cell_type": "code",
   "execution_count": null,
   "id": "1bf0a814",
   "metadata": {},
   "outputs": [],
   "source": []
  },
  {
   "cell_type": "code",
   "execution_count": 1,
   "id": "38d30c80",
   "metadata": {},
   "outputs": [],
   "source": [
    "import numpy as np\n",
    "\n",
    "class VectorCh(object):\n",
    "    \n",
    "    def __init__(self, x, true_y):\n",
    "        \n",
    "        if len(x.shape) > 2:\n",
    "            self.__x = list(np.asanyarray(x).reshape(-2))\n",
    "        else:\n",
    "            self.__x = x\n",
    "        \n",
    "        self.__true_y = true_y\n",
    "    \n",
    "    def getX(self):\n",
    "        return self.__x\n",
    "    \n",
    "    def get_true_y(self):\n",
    "        return self.__true_y"
   ]
  },
  {
   "cell_type": "code",
   "execution_count": 48,
   "id": "d6f623e5",
   "metadata": {},
   "outputs": [],
   "source": [
    "import random as rd\n",
    "\n",
    "class NeuronCh:\n",
    "    \n",
    "    def __init__(self, weights_count):\n",
    "        self.__weights_count = weights_count\n",
    "        self.__weight = [0] * (weights_count)\n",
    "        self.__out = 0.0\n",
    "        self.__range_min = - 0.0003\n",
    "        self.__range_max = 0.0003\n",
    "        self.randomize_weights()\n",
    "        \n",
    "    def randomize_weights(self):\n",
    "        for x in range(self.__weights_count):\n",
    "            self.__weight[x] = self.__range_min + ( self.__range_max - self.__range_min ) * rd.random()\n",
    "            \n",
    "    def activation_func(slef, val):\n",
    "        if val >= 0:\n",
    "            return 1.0\n",
    "        else:\n",
    "            return 0.0\n",
    "        \n",
    "    def calc_out(X):\n",
    "        sum = 0\n",
    "        for i in range(len(X)):\n",
    "            sum += X[i] * self.__weight[i]\n",
    "        self.__out = activation_func(sum)\n",
    "        \n",
    "    def get_out():\n",
    "        return self.__out\n",
    "    \n",
    "    def correct_weights(delta_weight):\n",
    "        for j in len(self.__weight):\n",
    "            self.__weight[j] += delta_weight[j]\n",
    "    \n",
    "    def get_weithts(self):\n",
    "        return self.__weight"
   ]
  },
  {
   "cell_type": "code",
   "execution_count": 49,
   "id": "dc0c98b2",
   "metadata": {},
   "outputs": [
    {
     "name": "stdout",
     "output_type": "stream",
     "text": [
      "0.00018734287192265144\n",
      "0.00025224728200039947\n",
      "-5.827264131632036e-05\n",
      "0.00023837924187084723\n",
      "4.05268090271436e-06\n",
      "-0.00018043681575245652\n",
      "-0.00019977206197984804\n",
      "0.00019992753212860667\n",
      "0.00022348023567905138\n",
      "-0.00011647448164966019\n"
     ]
    }
   ],
   "source": [
    "a = NeuronCh(10)\n",
    "\n",
    "for x in a.get_weithts():\n",
    "    print(x)"
   ]
  },
  {
   "cell_type": "code",
   "execution_count": 21,
   "id": "2e49178b",
   "metadata": {},
   "outputs": [],
   "source": [
    "import numpy as np\n",
    "\n",
    "class NeuralNetCh(object):\n",
    "        \n",
    "    \"\"\"\n",
    "    Инициализируем объект Python.\n",
    "    Параметры:\n",
    "    Размер входного вектора;\n",
    "    Количество нейронов.\n",
    "    \"\"\"\n",
    "    \n",
    "    def __init__(self, input_vector_size, output_neurons_count):\n",
    "\n",
    "        self.input_vector_size = input_vector_size\n",
    "        \n",
    "        layer = []\n",
    "        \n",
    "        for neuron_no in range(output_neurons_count):\n",
    "            layer[neuron_no] = NeuronCh(input_vector_size)\n",
    "        \n",
    "        error = list(range(len(layer)))\n",
    "        \n",
    "    def get_error():\n",
    "        return error\n",
    "    \n",
    "    def get_epoch_num():\n",
    "        return __eproch_num\n",
    "    \n",
    "    def is_complete():\n",
    "        return complete\n",
    "    \n",
    "    def set_complete(complete):\n",
    "        self.__complete = complete\n",
    "        \n",
    "    def train(vector_set):\n",
    "        return\n",
    "    \n",
    "    def test(vector):\n",
    "        return"
   ]
  },
  {
   "cell_type": "code",
   "execution_count": null,
   "id": "66f9f107",
   "metadata": {},
   "outputs": [],
   "source": []
  },
  {
   "cell_type": "code",
   "execution_count": null,
   "id": "3d97bbb7",
   "metadata": {},
   "outputs": [],
   "source": []
  },
  {
   "cell_type": "code",
   "execution_count": null,
   "id": "62524ba1",
   "metadata": {},
   "outputs": [],
   "source": []
  },
  {
   "cell_type": "code",
   "execution_count": null,
   "id": "13b1fa71",
   "metadata": {},
   "outputs": [],
   "source": []
  }
 ],
 "metadata": {
  "kernelspec": {
   "display_name": "Python 3 (ipykernel)",
   "language": "python",
   "name": "python3"
  },
  "language_info": {
   "codemirror_mode": {
    "name": "ipython",
    "version": 3
   },
   "file_extension": ".py",
   "mimetype": "text/x-python",
   "name": "python",
   "nbconvert_exporter": "python",
   "pygments_lexer": "ipython3",
   "version": "3.9.12"
  }
 },
 "nbformat": 4,
 "nbformat_minor": 5
}
