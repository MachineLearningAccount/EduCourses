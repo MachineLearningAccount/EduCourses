{
 "cells": [
  {
   "cell_type": "markdown",
   "id": "482dadea",
   "metadata": {},
   "source": [
    "# Lab1 notes"
   ]
  },
  {
   "cell_type": "code",
   "execution_count": 4,
   "id": "d5586dfe",
   "metadata": {},
   "outputs": [],
   "source": [
    "\"\"\"\n",
    "Производим подготовку данных из набора MNIST.\n",
    "\n",
    "Набор содержит 4 файла, это 2 пары, одна обучющий набор (60000 образцов), другая тестовый (10000 образцов).\n",
    "Каждая пара, это изобразения (x) и метки (y) к ним.\n",
    "Метки, это набор цифр-ответов для каждого из рисунков.\n",
    "Изображения нам нужно преобразовать в списки-признаки. Каждое изображение, это 28 Х 28 пикселей в градациях серого,\n",
    "на которых изображена одна из 10 цифр.\n",
    "Запишем каждое из них как список из 784 элементов. А затем соберём их в единый ndarray. \n",
    "\n",
    "Функция  будет превращать изображения и ответы из обучающего или тестового наборов в 2 ndarray: lables & images.\n",
    "В дальнейшем, для тестового и обучающего наборов можно будет вызвать эту функцию по отдельности.\n",
    "Ndarray images имеет размерность n X m, где n - число образцов (60000 или 10000), а m - число пикселей (наши признаки),\n",
    "которых 784. Ndarray lables содержит 60000 или 10000 элементов с ответами.\n",
    "\"\"\"\n",
    "\n",
    "import os\n",
    "import struct\n",
    "import numpy as np\n",
    "\n",
    "def load_mnist(path, kind='train'):\n",
    "    \"\"\"\n",
    "    Формируем пути доступа к исходным 4м файлам средствами библиотеки os.\n",
    "    \"\"\"\n",
    "    labels_path = os.path.join(path, \n",
    "                               '%s-labels-idx1-ubyte' % kind)\n",
    "    images_path = os.path.join(path, \n",
    "                               '%s-images-idx3-ubyte' % kind)\n",
    "    \"\"\"\n",
    "    Получим доступ к данным ответов, сформировав labels ndarray.\n",
    "    \"\"\"    \n",
    "    with open(labels_path, 'rb') as lbpath:\n",
    "        magic, n = struct.unpack('>II', \n",
    "                                 lbpath.read(8))\n",
    "        labels = np.fromfile(lbpath, \n",
    "                             dtype=np.uint8)\n",
    "    \"\"\"\n",
    "    Получим доступ к данным ответов, сформировав images ndarray.\n",
    "    Так как мы планируем использовать градиентные методы,\n",
    "    произведём масштабирование значений, описывающих пиксели в images,\n",
    "    чтобы значения лежали в [-1,1].\n",
    "    \"\"\" \n",
    "    with open(images_path, 'rb') as imgpath:\n",
    "        magic, num, rows, cols = struct.unpack(\">IIII\", \n",
    "                                               imgpath.read(16))\n",
    "        images = np.fromfile(imgpath, \n",
    "                             dtype=np.uint8).reshape(len(labels), 784)\n",
    "        images = ((images / 255.) - .5) * 2\n",
    " \n",
    "    return images, labels"
   ]
  },
  {
   "cell_type": "code",
   "execution_count": 5,
   "id": "e4b47afb",
   "metadata": {},
   "outputs": [
    {
     "name": "stdout",
     "output_type": "stream",
     "text": [
      "Rows: 60000, columns: 784\n"
     ]
    }
   ],
   "source": [
    "\"\"\"\n",
    "Получаем обучающий набор данных.\n",
    "\"\"\"\n",
    "\n",
    "X_train, y_train = load_mnist('', kind='train')\n",
    "print('Rows: %d, columns: %d' % (X_train.shape[0], X_train.shape[1]))"
   ]
  },
  {
   "cell_type": "code",
   "execution_count": 6,
   "id": "fe3444e5",
   "metadata": {},
   "outputs": [
    {
     "name": "stdout",
     "output_type": "stream",
     "text": [
      "Rows: 10000, columns: 784\n"
     ]
    }
   ],
   "source": [
    "\"\"\"\n",
    "Получаем тестовый набор данных.\n",
    "\"\"\"\n",
    "\n",
    "X_test, y_test = load_mnist('', kind='t10k')\n",
    "print('Rows: %d, columns: %d' % (X_test.shape[0], X_test.shape[1]))"
   ]
  },
  {
   "cell_type": "markdown",
   "id": "43cdd74c",
   "metadata": {},
   "source": [
    "Создаём класс, описывающий нейросеть с одним скрытым слоем, для обучения на наборе данных MNIST, для распознавания рукописных цифр."
   ]
  },
  {
   "cell_type": "code",
   "execution_count": 7,
   "id": "09107cf9",
   "metadata": {},
   "outputs": [],
   "source": [
    "import numpy as np\n",
    "import sys\n",
    "\n",
    "\"\"\"\n",
    "Минимизация ошибки будет производиться методом SGD.\n",
    "\"\"\"\n",
    "class NeuralNetSGD(object):\n",
    "        \n",
    "    \"\"\"\n",
    "    Инициализируем объект Python.\n",
    "    В качестве параметров будут приниматься:\n",
    "    количество скрытых слоёв;\n",
    "    лямбда для l2 регуляризации;\n",
    "    количество эпох;\n",
    "    константа обучения;\n",
    "    сдвиг;\n",
    "    количество тестовый образцов на один минибатч;\n",
    "    Рандомизатор для инициализации весов\n",
    "    \"\"\"\n",
    "    \n",
    "    def __init__(self, n_hidden=30,\n",
    "                 l2=0., epochs=100, eta=0.001,\n",
    "                 shuffle=True, minibatch_size=1, seed=None):\n",
    "\n",
    "        self.random = np.random.RandomState(seed)\n",
    "        self.n_hidden = n_hidden\n",
    "        self.l2 = l2\n",
    "        self.epochs = epochs\n",
    "        self.eta = eta\n",
    "        self.shuffle = shuffle\n",
    "        self.minibatch_size = minibatch_size\n",
    "\n",
    "    def _onehot(self, y, n_classes):\n",
    "        \"\"\"\n",
    "\n",
    "        Произведём one-hot приобразование входного набора данных.\n",
    "\n",
    "        \"\"\"\n",
    "        onehot = np.zeros((n_classes, y.shape[0]))\n",
    "        for idx, val in enumerate(y.astype(int)):\n",
    "            onehot[val, idx] = 1.\n",
    "        return onehot.T\n",
    "\n",
    "    def _sigmoid(self, z):\n",
    "        \"\"\"\n",
    "        Вычисление логистической функции.\n",
    "        \"\"\"\n",
    "        return 1. / (1. + np.exp(-np.clip(z, -250, 250)))\n",
    "\n",
    "    def _forward(self, X):\n",
    "        \"\"\"\n",
    "        Вычисление шага прямого прохода.\n",
    "        \"\"\"\n",
    "\n",
    "\n",
    "        z_h = np.dot(X, self.w_h) + self.b_h\n",
    "\n",
    "        a_h = self._sigmoid(z_h)\n",
    "\n",
    "        z_out = np.dot(a_h, self.w_out) + self.b_out\n",
    "\n",
    "        a_out = self._sigmoid(z_out)\n",
    "\n",
    "        return z_h, a_h, z_out, a_out\n",
    "\n",
    "    def _compute_cost(self, y_enc, output):\n",
    "        \"\"\"\n",
    "        Вычисление функционала ошибки.\n",
    "        \n",
    "        \"\"\"\n",
    "        L2_term = (self.l2 *\n",
    "                   (np.sum(self.w_h ** 2.) +\n",
    "                    np.sum(self.w_out ** 2.)))\n",
    "\n",
    "        term1 = -y_enc * (np.log(output))\n",
    "        term2 = (1. - y_enc) * np.log(1. - output)\n",
    "        cost = np.sum(term1 - term2) + L2_term\n",
    "        \n",
    "        return cost\n",
    "\n",
    "    def predict(self, X):\n",
    "        \"\"\"\n",
    "        Выполнение предсказания значения.\n",
    "        \"\"\"\n",
    "        z_h, a_h, z_out, a_out = self._forward(X)\n",
    "        y_pred = np.argmax(z_out, axis=1)\n",
    "        return y_pred\n",
    "\n",
    "    def fit(self, X_train, y_train, X_valid, y_valid):\n",
    "        \"\"\" \n",
    "        Обучение нейронной сети.\n",
    "\n",
    "        \"\"\"\n",
    "        n_output = np.unique(y_train).shape[0]\n",
    "        n_features = X_train.shape[1]\n",
    "\n",
    "        self.b_h = np.zeros(self.n_hidden)\n",
    "        self.w_h = self.random.normal(loc=0.0, scale=0.1,\n",
    "                                      size=(n_features, self.n_hidden))\n",
    "\n",
    "        self.b_out = np.zeros(n_output)\n",
    "        self.w_out = self.random.normal(loc=0.0, scale=0.1,\n",
    "                                        size=(self.n_hidden, n_output))\n",
    "\n",
    "        epoch_strlen = len(str(self.epochs))\n",
    "        self.eval_ = {'cost': [], 'train_acc': [], 'valid_acc': []}\n",
    "\n",
    "        y_train_enc = self._onehot(y_train, n_output)\n",
    "\n",
    "        for i in range(self.epochs):\n",
    "\n",
    "            indices = np.arange(X_train.shape[0])\n",
    "\n",
    "            if self.shuffle:\n",
    "                self.random.shuffle(indices)\n",
    "\n",
    "            for start_idx in range(0, indices.shape[0] - self.minibatch_size +\n",
    "                                   1, self.minibatch_size):\n",
    "                batch_idx = indices[start_idx:start_idx + self.minibatch_size]\n",
    "\n",
    "                z_h, a_h, z_out, a_out = self._forward(X_train[batch_idx])\n",
    "\n",
    "                delta_out = a_out - y_train_enc[batch_idx]\n",
    "\n",
    "                sigmoid_derivative_h = a_h * (1. - a_h)\n",
    "\n",
    "                delta_h = (np.dot(delta_out, self.w_out.T) *\n",
    "                           sigmoid_derivative_h)\n",
    "\n",
    "                grad_w_h = np.dot(X_train[batch_idx].T, delta_h)\n",
    "                grad_b_h = np.sum(delta_h, axis=0)\n",
    "\n",
    "                grad_w_out = np.dot(a_h.T, delta_out)\n",
    "                grad_b_out = np.sum(delta_out, axis=0)\n",
    "\n",
    "                delta_w_h = (grad_w_h + self.l2*self.w_h)\n",
    "                delta_b_h = grad_b_h\n",
    "                self.w_h -= self.eta * delta_w_h\n",
    "                self.b_h -= self.eta * delta_b_h\n",
    "\n",
    "                delta_w_out = (grad_w_out + self.l2*self.w_out)\n",
    "                delta_b_out = grad_b_out\n",
    "                self.w_out -= self.eta * delta_w_out\n",
    "                self.b_out -= self.eta * delta_b_out\n",
    "\n",
    "            z_h, a_h, z_out, a_out = self._forward(X_train)\n",
    "            \n",
    "            cost = self._compute_cost(y_enc=y_train_enc,\n",
    "                                      output=a_out)\n",
    "\n",
    "            y_train_pred = self.predict(X_train)\n",
    "            y_valid_pred = self.predict(X_valid)\n",
    "\n",
    "            train_acc = ((np.sum(y_train == y_train_pred)).astype(np.float64) /\n",
    "                         X_train.shape[0])\n",
    "            valid_acc = ((np.sum(y_valid == y_valid_pred)).astype(np.float64) /\n",
    "                         X_valid.shape[0])\n",
    "\n",
    "            sys.stderr.write('\\r%0*d/%d | Cost: %.2f '\n",
    "                             '| Train/Valid Acc.: %.2f%%/%.2f%% ' %\n",
    "                             (epoch_strlen, i+1, self.epochs, cost,\n",
    "                              train_acc*100, valid_acc*100))\n",
    "            sys.stderr.flush()\n",
    "\n",
    "            self.eval_['cost'].append(cost)\n",
    "            self.eval_['train_acc'].append(train_acc)\n",
    "            self.eval_['valid_acc'].append(valid_acc)\n",
    "\n",
    "        return self"
   ]
  },
  {
   "cell_type": "markdown",
   "id": "dd1f3945",
   "metadata": {},
   "source": [
    "Обучим нейронную сеть на наборе данных MNIST со следующими аргументами."
   ]
  },
  {
   "cell_type": "code",
   "execution_count": null,
   "id": "7c9f0219",
   "metadata": {},
   "outputs": [
    {
     "name": "stderr",
     "output_type": "stream",
     "text": [
      "012/200 | Cost: 24237.90 | Train/Valid Acc.: 93.63%/94.98% "
     ]
    }
   ],
   "source": [
    "nn = NeuralNetSGD(n_hidden=100, \n",
    "                  l2=0.01, \n",
    "                  epochs=200, \n",
    "                  eta=0.0005,\n",
    "                  minibatch_size=100, \n",
    "                  shuffle=True,\n",
    "                  seed=1)\n",
    "\n",
    "nn.fit(X_train=X_train[:55000], \n",
    "       y_train=y_train[:55000],\n",
    "       X_valid=X_train[55000:],\n",
    "       y_valid=y_train[55000:])"
   ]
  },
  {
   "cell_type": "markdown",
   "id": "033e02ff",
   "metadata": {},
   "source": [
    "Оценим в процентах степень обучения нейронной сети."
   ]
  },
  {
   "cell_type": "code",
   "execution_count": 6,
   "id": "9ef57266",
   "metadata": {},
   "outputs": [
    {
     "name": "stdout",
     "output_type": "stream",
     "text": [
      "Test accuracy: 97.54%\n"
     ]
    },
    {
     "name": "stderr",
     "output_type": "stream",
     "text": [
      "C:\\Users\\vlcher\\AppData\\Local\\Temp\\ipykernel_15232\\2419185224.py:3: DeprecationWarning: `np.float` is a deprecated alias for the builtin `float`. To silence this warning, use `float` by itself. Doing this will not modify any behavior and is safe. If you specifically wanted the numpy scalar type, use `np.float64` here.\n",
      "Deprecated in NumPy 1.20; for more details and guidance: https://numpy.org/devdocs/release/1.20.0-notes.html#deprecations\n",
      "  .astype(np.float) / X_test.shape[0])\n"
     ]
    }
   ],
   "source": [
    "y_test_pred = nn.predict(X_test)\n",
    "acc = (np.sum(y_test == y_test_pred)\n",
    "       .astype(np.float) / X_test.shape[0])\n",
    "\n",
    "print('Test accuracy: %.2f%%' % (acc * 100))"
   ]
  }
 ],
 "metadata": {
  "kernelspec": {
   "display_name": "Python 3 (ipykernel)",
   "language": "python",
   "name": "python3"
  },
  "language_info": {
   "codemirror_mode": {
    "name": "ipython",
    "version": 3
   },
   "file_extension": ".py",
   "mimetype": "text/x-python",
   "name": "python",
   "nbconvert_exporter": "python",
   "pygments_lexer": "ipython3",
   "version": "3.9.12"
  }
 },
 "nbformat": 4,
 "nbformat_minor": 5
}
